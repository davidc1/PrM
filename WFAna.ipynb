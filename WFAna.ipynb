{
 "cells": [
  {
   "cell_type": "code",
   "execution_count": null,
   "metadata": {},
   "outputs": [],
   "source": [
    "%matplotlib inline\n",
    "#%pylab\n",
    "import matplotlib\n",
    "import matplotlib.pyplot as plt\n",
    "import matplotlib.colors as mpc\n",
    "import matplotlib.dates as dts\n",
    "import numpy as np\n",
    "import pandas as pd\n",
    "import itertools\n",
    "import os\n",
    "import ROOT\n",
    "import datetime\n",
    "from root_numpy import root2array, root2rec, tree2rec, array2root\n",
    "from scipy.optimize import curve_fit\n",
    "from scipy.misc import factorial\n",
    "plt.rcParams.update({'font.size': 16})"
   ]
  },
  {
   "cell_type": "code",
   "execution_count": null,
   "metadata": {},
   "outputs": [],
   "source": [
    "from decode import GetWaveformsNoiseRemoval"
   ]
  },
  {
   "cell_type": "code",
   "execution_count": null,
   "metadata": {},
   "outputs": [],
   "source": [
    "from datetime import datetime"
   ]
  },
  {
   "cell_type": "code",
   "execution_count": null,
   "metadata": {},
   "outputs": [],
   "source": [
    "def gettime(name):\n",
    "    date = name.split('PrM1-')[-1].split('.dat')[0]\n",
    "    time = datetime.strptime(date,'%Y_%m_%d-%H_%M_%S')\n",
    "    return time"
   ]
  },
  {
   "cell_type": "code",
   "execution_count": null,
   "metadata": {},
   "outputs": [],
   "source": [
    "def QaQc(wf_v):\n",
    "    anode_v = wf_v[0][700:]\n",
    "    cathode_v = wf_v[1][500:]\n",
    "    Qa = np.amax(anode_v)\n",
    "    Qc = np.amin(cathode_v)\n",
    "    return Qa,Qc\n",
    "\n",
    "def QaQcSTATS(ev_wf_v):\n",
    "    \n",
    "    Qa_v = []\n",
    "    Qc_v = []\n",
    "    for wf_v in ev_wf_v:\n",
    "        Qa,Qc = QaQc(wf_v)\n",
    "        Qa_v.append(Qa*1e3)\n",
    "        Qc_v.append(Qc*1e3)\n",
    "    Qa_v = np.array(Qa_v)\n",
    "    Qc_v = np.array(Qc_v)\n",
    "\n",
    "    Qa_avg = np.mean(Qa_v)\n",
    "    Qa_rms = np.std(Qa_v)\n",
    "    Qc_avg = np.mean(Qc_v)\n",
    "    Qc_rms = np.std(Qc_v)\n",
    "    \n",
    "    return [[Qa_avg,Qa_rms],[Qc_avg,Qc_rms]]"
   ]
  },
  {
   "cell_type": "code",
   "execution_count": null,
   "metadata": {},
   "outputs": [],
   "source": [
    "PATH = '/home/david/Dropbox/Neutrinos/LArCADe/Run1/'\n",
    "datafile_v = os.listdir(PATH)\n",
    "dt = 0.0005"
   ]
  },
  {
   "cell_type": "code",
   "execution_count": null,
   "metadata": {},
   "outputs": [],
   "source": [
    "datafile = PATH + datafile_v[0]\n",
    "ev_wf_v = GetWaveformsNoiseRemoval(datafile)"
   ]
  },
  {
   "cell_type": "code",
   "execution_count": null,
   "metadata": {
    "scrolled": true
   },
   "outputs": [],
   "source": [
    "time = gettime(datafile_v[0])\n",
    "dt = 0.0005\n",
    "\n",
    "time_v = np.linspace(0,dt*len(ev_wf_v[0][0]),len(ev_wf_v[0][0]))\n",
    "\n",
    "for n in xrange(len(ev_wf_v)):\n",
    "\n",
    "    fig = plt.figure(figsize=(10,6))\n",
    "    plt.plot(time_v,ev_wf_v[n][0],color='r',label='Anode')\n",
    "    plt.plot(time_v,ev_wf_v[n][1],color='b',label='Cathode')\n",
    "    plt.grid()\n",
    "    plt.legend(loc=1)\n",
    "    plt.xlabel('Time [ms]',fontsize=20)\n",
    "    plt.ylabel('Amplitude [mV]',fontsize=20)\n",
    "    plt.title('Time : %s'%time)\n",
    "    plt.ylim([-0.025,0.025])\n",
    "    #plt.xlim([0,0.05])\n",
    "    plt.show()"
   ]
  },
  {
   "cell_type": "code",
   "execution_count": null,
   "metadata": {
    "scrolled": true
   },
   "outputs": [],
   "source": [
    "date_v = []\n",
    "Qa_avg_v = []\n",
    "Qa_rms_v = []\n",
    "Qc_avg_v = []\n",
    "Qc_rms_v = []\n",
    "\n",
    "for datafile in datafile_v:\n",
    "    if (datafile.find('.dat') < 0): continue\n",
    "    time = gettime(datafile)\n",
    "    fin = PATH+datafile\n",
    "    try:\n",
    "        ev_wf_v = GetWaveforms(fin)\n",
    "        res = QaQcSTATS(ev_wf_v)\n",
    "        Qa_avg = res[0][0]\n",
    "        Qa_rms = res[0][1]\n",
    "        Qc_avg = res[1][0]\n",
    "        Qc_rms = res[1][1]\n",
    "        print 'At %s Qa : %.02f +/- %.02f mV Qc : %.02f +/- %.02f mV'%(time,Qa_avg,Qa_rms,Qc_avg,Qc_rms)\n",
    "        date_v.append(time)\n",
    "        Qa_avg_v.append(Qa_avg)\n",
    "        Qc_avg_v.append(Qc_avg)\n",
    "        Qa_rms_v.append(Qa_rms)\n",
    "        Qc_rms_v.append(Qc_rms)\n",
    "    except:\n",
    "        print 'failure @ file %s'%datafile\n",
    "        \n",
    "date_v = matplotlib.dates.date2num(date_v)"
   ]
  },
  {
   "cell_type": "code",
   "execution_count": null,
   "metadata": {},
   "outputs": [],
   "source": [
    "fig = plt.figure(figsize=(16,6))\n",
    "\n",
    "print len(date_v)\n",
    "print len(Qa_avg_v)\n",
    "\n",
    "#plt.plot_date(date_v,np.abs(Qa_avg_v))\n",
    "#plt.plot_date(date_v,np.abs(Qc_avg_v))\n",
    "\n",
    "plt.errorbar(date_v,np.abs(Qa_avg_v),yerr=Qa_rms_v,fmt='o',color='r',label='Anode')\n",
    "plt.errorbar(date_v,np.abs(Qc_avg_v),yerr=Qc_rms_v,fmt='o',color='b',label='Cathode')\n",
    "\n",
    "#plt.xlim([7.2e5,7.4e5])\n",
    "\n",
    "plt.ylim([17,23])\n",
    "plt.grid()\n",
    "plt.legend(numpoints=1,fontsize=18)\n",
    "plt.xlabel('Time [UNIX]',fontsize=20)\n",
    "plt.ylabel('Amplitude [50-run avg.]',fontsize=20)\n",
    "plt.show()"
   ]
  },
  {
   "cell_type": "code",
   "execution_count": null,
   "metadata": {},
   "outputs": [],
   "source": []
  }
 ],
 "metadata": {
  "kernelspec": {
   "display_name": "Python 3 (ipykernel)",
   "language": "python",
   "name": "python3"
  },
  "language_info": {
   "codemirror_mode": {
    "name": "ipython",
    "version": 3
   },
   "file_extension": ".py",
   "mimetype": "text/x-python",
   "name": "python",
   "nbconvert_exporter": "python",
   "pygments_lexer": "ipython3",
   "version": "3.7.9"
  }
 },
 "nbformat": 4,
 "nbformat_minor": 1
}
