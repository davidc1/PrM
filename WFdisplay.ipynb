{
 "cells": [
  {
   "cell_type": "code",
   "execution_count": 1,
   "metadata": {
    "collapsed": true
   },
   "outputs": [],
   "source": [
    "%matplotlib inline\n",
    "#%pylab\n",
    "import matplotlib\n",
    "import matplotlib.pyplot as plt\n",
    "import matplotlib.colors as mpc\n",
    "import matplotlib.dates as dts\n",
    "import numpy as np\n",
    "import pandas as pd\n",
    "import itertools\n",
    "import os\n",
    "import ROOT\n",
    "import datetime\n",
    "from root_numpy import root2array, root2rec, tree2rec, array2root\n",
    "from scipy.optimize import curve_fit\n",
    "from scipy.misc import factorial\n",
    "plt.rcParams.update({'font.size': 16})"
   ]
  },
  {
   "cell_type": "code",
   "execution_count": 2,
   "metadata": {
    "collapsed": true
   },
   "outputs": [],
   "source": [
    "from decode import GetWaveforms"
   ]
  },
  {
   "cell_type": "code",
   "execution_count": 3,
   "metadata": {
    "collapsed": true
   },
   "outputs": [],
   "source": [
    "from datetime import datetime"
   ]
  },
  {
   "cell_type": "code",
   "execution_count": 7,
   "metadata": {
    "collapsed": true
   },
   "outputs": [],
   "source": [
    "def gettime(name):\n",
    "    date = name.split('PrM1-')[-1].split('.dat')[0]\n",
    "    time = datetime.strptime(date,'%Y_%m_%d-%H_%M_%S')\n",
    "    return time"
   ]
  },
  {
   "cell_type": "code",
   "execution_count": 8,
   "metadata": {
    "collapsed": true
   },
   "outputs": [],
   "source": [
    "def QaQc(wf_v):\n",
    "    anode_v = wf_v[0][700:]\n",
    "    cathode_v = wf_v[1][500:]\n",
    "    Qa = np.amax(anode_v)\n",
    "    Qc = np.amin(cathode_v)\n",
    "    return Qa,Qc\n",
    "\n",
    "def QaQcSTATS(ev_wf_v):\n",
    "    \n",
    "    Qa_v = []\n",
    "    Qc_v = []\n",
    "    for wf_v in ev_wf_v:\n",
    "        Qa,Qc = QaQc(wf_v)\n",
    "        Qa_v.append(Qa*1e3)\n",
    "        Qc_v.append(Qc*1e3)\n",
    "    Qa_v = np.array(Qa_v)\n",
    "    Qc_v = np.array(Qc_v)\n",
    "\n",
    "    Qa_avg = np.mean(Qa_v)\n",
    "    Qa_rms = np.std(Qa_v)\n",
    "    Qc_avg = np.mean(Qc_v)\n",
    "    Qc_rms = np.std(Qc_v)\n",
    "    \n",
    "    return [[Qa_avg,Qa_rms],[Qc_avg,Qc_rms]]"
   ]
  },
  {
   "cell_type": "code",
   "execution_count": 19,
   "metadata": {
    "collapsed": false
   },
   "outputs": [
    {
     "name": "stdout",
     "output_type": "stream",
     "text": [
      "At 2018-04-05 04:39:31 Qa : 20.58 +/- 0.83 mV Qc : -19.27 +/- 1.34 mV\n",
      "At 2018-04-05 00:59:29 Qa : 21.96 +/- 0.83 mV Qc : -20.42 +/- 1.56 mV\n",
      "At 2018-04-05 01:59:29 Qa : 21.46 +/- 1.03 mV Qc : -19.75 +/- 1.28 mV\n",
      "At 2018-04-05 10:23:23 Qa : 10.25 +/- 0.68 mV Qc : -18.59 +/- 1.93 mV\n",
      "At 2018-04-05 11:33:30 Qa : 4.66 +/- 1.84 mV Qc : -7.04 +/- 3.73 mV\n",
      "At 2018-04-05 12:13:30 Qa : 4.47 +/- 1.70 mV Qc : -6.71 +/- 3.42 mV\n",
      "At 2018-04-05 13:33:30 Qa : 6.51 +/- 1.31 mV Qc : -8.87 +/- 2.65 mV\n",
      "At 2018-04-05 02:59:30 Qa : 21.12 +/- 0.70 mV Qc : -19.77 +/- 1.45 mV\n",
      "At 2018-04-04 23:59:28 Qa : 21.53 +/- 0.63 mV Qc : -19.98 +/- 1.48 mV\n",
      "At 2018-04-05 13:13:30 Qa : 5.40 +/- 1.68 mV Qc : -6.87 +/- 3.41 mV\n",
      "At 2018-04-05 10:11:58 Qa : 20.76 +/- 0.77 mV Qc : -18.82 +/- 1.57 mV\n",
      "At 2018-04-05 10:11:21 Qa : 20.43 +/- 0.98 mV Qc : -18.50 +/- 1.29 mV\n",
      "At 2018-04-05 01:39:29 Qa : 21.57 +/- 0.78 mV Qc : -19.76 +/- 0.91 mV\n",
      "At 2018-04-05 10:33:11 Qa : 5.98 +/- 1.61 mV Qc : -56.60 +/- 0.47 mV\n",
      "At 2018-04-05 10:24:03 Qa : 9.54 +/- 1.08 mV Qc : -18.46 +/- 1.42 mV\n",
      "At 2018-04-05 07:23:19 Qa : 20.24 +/- 0.98 mV Qc : -19.27 +/- 1.40 mV\n",
      "At 2018-04-05 10:22:25 Qa : 13.16 +/- 0.62 mV Qc : -17.79 +/- 0.68 mV\n",
      "At 2018-04-05 13:53:31 Qa : 5.13 +/- 0.72 mV Qc : -7.53 +/- 3.86 mV\n",
      "At 2018-04-05 04:59:31 Qa : 20.78 +/- 0.92 mV Qc : -19.54 +/- 1.44 mV\n",
      "failure @ file PrM1-2018_04_05-07_03_19.dat\n",
      "At 2018-04-05 12:33:30 Qa : 4.48 +/- 1.43 mV Qc : -6.70 +/- 3.13 mV\n",
      "At 2018-04-05 10:12:58 Qa : 21.08 +/- 0.68 mV Qc : -19.01 +/- 0.79 mV\n",
      "At 2018-04-05 04:19:31 Qa : 20.85 +/- 0.96 mV Qc : -19.36 +/- 1.42 mV\n",
      "At 2018-04-05 10:13:43 Qa : 20.92 +/- 0.68 mV Qc : -18.70 +/- 1.10 mV\n",
      "At 2018-04-05 12:53:30 Qa : 5.69 +/- 1.24 mV Qc : -7.39 +/- 3.40 mV\n",
      "At 2018-04-05 03:19:30 Qa : 21.08 +/- 0.75 mV Qc : -20.37 +/- 1.75 mV\n",
      "At 2018-04-05 10:21:12 Qa : 16.38 +/- 0.70 mV Qc : -18.13 +/- 0.61 mV\n",
      "At 2018-04-05 05:19:31 Qa : 20.64 +/- 0.77 mV Qc : -19.47 +/- 1.47 mV\n",
      "At 2018-04-05 10:33:30 Qa : 4.08 +/- 1.69 mV Qc : -7.74 +/- 4.49 mV\n",
      "At 2018-04-05 03:59:30 Qa : 20.74 +/- 0.76 mV Qc : -19.24 +/- 1.15 mV\n",
      "At 2018-04-05 06:39:32 Qa : 20.25 +/- 0.81 mV Qc : -19.25 +/- 1.58 mV\n",
      "At 2018-04-05 11:13:30 Qa : 3.88 +/- 1.20 mV Qc : -6.76 +/- 3.79 mV\n",
      "At 2018-04-05 02:19:29 Qa : 21.22 +/- 0.81 mV Qc : -19.81 +/- 1.47 mV\n",
      "At 2018-04-05 11:53:30 Qa : 4.72 +/- 1.73 mV Qc : -7.07 +/- 3.74 mV\n",
      "At 2018-04-05 06:59:32 Qa : 20.14 +/- 0.92 mV Qc : -19.00 +/- 1.47 mV\n",
      "At 2018-04-05 07:43:19 Qa : 20.44 +/- 0.71 mV Qc : -19.26 +/- 0.99 mV\n",
      "At 2018-04-05 03:39:30 Qa : 21.04 +/- 0.86 mV Qc : -19.82 +/- 1.45 mV\n",
      "At 2018-04-05 00:19:28 Qa : 21.82 +/- 0.73 mV Qc : -20.18 +/- 1.50 mV\n",
      "At 2018-04-05 10:21:53 Qa : 14.99 +/- 0.65 mV Qc : -18.22 +/- 1.72 mV\n",
      "At 2018-04-05 05:59:32 Qa : 20.62 +/- 0.80 mV Qc : -19.52 +/- 1.47 mV\n",
      "At 2018-04-05 05:39:31 Qa : 21.07 +/- 0.74 mV Qc : -20.42 +/- 1.63 mV\n",
      "At 2018-04-05 10:20:33 Qa : 18.28 +/- 0.71 mV Qc : -18.21 +/- 1.12 mV\n",
      "At 2018-04-04 23:39:28 Qa : 21.42 +/- 0.83 mV Qc : -19.83 +/- 1.24 mV\n",
      "At 2018-04-05 10:19:43 Qa : 19.04 +/- 0.71 mV Qc : -18.12 +/- 1.46 mV\n",
      "At 2018-04-05 10:53:30 Qa : 4.32 +/- 2.35 mV Qc : -7.18 +/- 4.68 mV\n",
      "At 2018-04-05 10:18:41 Qa : 19.44 +/- 0.66 mV Qc : -18.30 +/- 0.88 mV\n",
      "At 2018-04-05 06:19:32 Qa : 20.53 +/- 1.02 mV Qc : -18.96 +/- 1.07 mV\n",
      "At 2018-04-05 00:39:28 Qa : 21.92 +/- 0.82 mV Qc : -20.09 +/- 1.24 mV\n",
      "At 2018-04-05 10:12:46 Qa : 3.49 +/- 0.75 mV Qc : -3.76 +/- 1.33 mV\n",
      "At 2018-04-05 10:23:11 Qa : 3.58 +/- 1.19 mV Qc : -3.83 +/- 2.31 mV\n",
      "At 2018-04-05 02:39:30 Qa : 21.02 +/- 0.67 mV Qc : -19.58 +/- 1.51 mV\n",
      "At 2018-04-05 01:19:29 Qa : 21.59 +/- 0.96 mV Qc : -20.09 +/- 1.40 mV\n"
     ]
    }
   ],
   "source": [
    "PATH = '/home/david/Dropbox/Neutrinos/LArCADe/Run1/'\n",
    "datafile_v = os.listdir(PATH)\n",
    "\n",
    "date_v = []\n",
    "Qa_avg_v = []\n",
    "Qa_rms_v = []\n",
    "Qc_avg_v = []\n",
    "Qc_rms_v = []\n",
    "\n",
    "for datafile in datafile_v:\n",
    "    if (datafile.find('.dat') < 0): continue\n",
    "    time = gettime(datafile)\n",
    "    fin = PATH+datafile\n",
    "    try:\n",
    "        ev_wf_v = GetWaveforms(fin)\n",
    "        res = QaQcSTATS(ev_wf_v)\n",
    "        Qa_avg = res[0][0]\n",
    "        Qa_rms = res[0][1]\n",
    "        Qc_avg = res[1][0]\n",
    "        Qc_rms = res[1][1]\n",
    "        print 'At %s Qa : %.02f +/- %.02f mV Qc : %.02f +/- %.02f mV'%(time,Qa_avg,Qa_rms,Qc_avg,Qc_rms)\n",
    "        date_v.append(time)\n",
    "        Qa_avg_v.append(Qa_avg)\n",
    "        Qc_avg_v.append(Qc_avg)\n",
    "        Qa_rms_v.append(Qa_rms)\n",
    "        Qc_rms_v.append(Qc_rms)\n",
    "    except:\n",
    "        print 'failure @ file %s'%datafile\n",
    "        \n",
    "date_v = matplotlib.dates.date2num(date_v)"
   ]
  },
  {
   "cell_type": "code",
   "execution_count": 26,
   "metadata": {
    "collapsed": false
   },
   "outputs": [
    {
     "name": "stdout",
     "output_type": "stream",
     "text": [
      "51\n",
      "51\n"
     ]
    },
    {
     "data": {
      "image/png": "[encoded data removed]",
      "text/plain": [
       "<matplotlib.figure.Figure at 0x7f308320e150>"
      ]
     },
     "metadata": {},
     "output_type": "display_data"
    }
   ],
   "source": [
    "fig = plt.figure(figsize=(16,6))\n",
    "\n",
    "print len(date_v)\n",
    "print len(Qa_avg_v)\n",
    "\n",
    "plt.plot_date(date_v,np.abs(Qa_avg_v))\n",
    "plt.plot_date(date_v,np.abs(Qc_avg_v))\n",
    "plt.ylim([17,23])\n",
    "plt.grid()\n",
    "plt.show()"
   ]
  },
  {
   "cell_type": "code",
   "execution_count": null,
   "metadata": {
    "collapsed": false
   },
   "outputs": [],
   "source": [
    "\n"
   ]
  },
  {
   "cell_type": "code",
   "execution_count": null,
   "metadata": {
    "collapsed": true
   },
   "outputs": [],
   "source": []
  },
  {
   "cell_type": "code",
   "execution_count": null,
   "metadata": {
    "collapsed": false
   },
   "outputs": [],
   "source": [
    "\n",
    "\n",
    "print 'Qa: %.02f +/- %.02f mV'%(Qa_avg,Qa_rms)\n",
    "print 'Qc: %.02f +/- %.02f mV'%(Qc_avg,Qc_rms)"
   ]
  },
  {
   "cell_type": "code",
   "execution_count": null,
   "metadata": {
    "collapsed": true
   },
   "outputs": [],
   "source": []
  }
 ],
 "metadata": {
  "kernelspec": {
   "display_name": "Python 2",
   "language": "python",
   "name": "python2"
  },
  "language_info": {
   "codemirror_mode": {
    "name": "ipython",
    "version": 2
   },
   "file_extension": ".py",
   "mimetype": "text/x-python",
   "name": "python",
   "nbconvert_exporter": "python",
   "pygments_lexer": "ipython2",
   "version": "2.7.12"
  }
 },
 "nbformat": 4,
 "nbformat_minor": 0
}
