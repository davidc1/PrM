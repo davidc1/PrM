{
 "cells": [
  {
   "cell_type": "code",
   "execution_count": null,
   "metadata": {},
   "outputs": [],
   "source": [
    "%matplotlib inline\n",
    "#%pylab\n",
    "import matplotlib\n",
    "import matplotlib.pyplot as plt\n",
    "import matplotlib.colors as mpc\n",
    "import matplotlib.dates as dts\n",
    "import numpy as np\n",
    "import pandas as pd\n",
    "import itertools\n",
    "import os\n",
    "import ROOT\n",
    "import datetime\n",
    "from root_numpy import root2array, root2rec, tree2rec, array2root\n",
    "from scipy.optimize import curve_fit\n",
    "from scipy.misc import factorial\n",
    "import scipy\n",
    "plt.rcParams.update({'font.size': 16})"
   ]
  },
  {
   "cell_type": "code",
   "execution_count": null,
   "metadata": {},
   "outputs": [],
   "source": [
    "from decode_new import GetWaveforms"
   ]
  },
  {
   "cell_type": "code",
   "execution_count": null,
   "metadata": {},
   "outputs": [],
   "source": [
    "from datetime import datetime"
   ]
  },
  {
   "cell_type": "code",
   "execution_count": null,
   "metadata": {},
   "outputs": [],
   "source": [
    "def gettime(name):\n",
    "    date = name.split('PrM1-')[-1].split('.dat')[0]\n",
    "    time = datetime.strptime(date,'%Y_%m_%d-%H_%M_%S')\n",
    "    return time"
   ]
  },
  {
   "cell_type": "code",
   "execution_count": null,
   "metadata": {},
   "outputs": [],
   "source": [
    "def QaQc(wf_v):\n",
    "    anode_v = wf_v[0][700:]\n",
    "    cathode_v = wf_v[1][500:]\n",
    "    Qa = np.amax(anode_v)\n",
    "    Qc = np.amin(cathode_v)\n",
    "    return Qa,Qc\n",
    "\n",
    "def QaQcSTATS(ev_wf_v):\n",
    "    \n",
    "    Qa_v = []\n",
    "    Qc_v = []\n",
    "    for wf_v in ev_wf_v:\n",
    "        Qa,Qc = QaQc(wf_v)\n",
    "        Qa_v.append(Qa*1e3)\n",
    "        Qc_v.append(Qc*1e3)\n",
    "    Qa_v = np.array(Qa_v)\n",
    "    Qc_v = np.array(Qc_v)\n",
    "\n",
    "    Qa_avg = np.mean(Qa_v)\n",
    "    Qa_rms = np.std(Qa_v)\n",
    "    Qc_avg = np.mean(Qc_v)\n",
    "    Qc_rms = np.std(Qc_v)\n",
    "    \n",
    "    return [[Qa_avg,Qa_rms],[Qc_avg,Qc_rms]]"
   ]
  },
  {
   "cell_type": "code",
   "execution_count": null,
   "metadata": {},
   "outputs": [],
   "source": [
    "PATH = '/home/david/data/LArCADe012020/'\n",
    "datafile_v = os.listdir(PATH)"
   ]
  },
  {
   "cell_type": "code",
   "execution_count": null,
   "metadata": {},
   "outputs": [],
   "source": [
    "datafile = PATH + datafile_v[0]\n",
    "ev_wf_v = GetWaveforms(datafile)"
   ]
  },
  {
   "cell_type": "code",
   "execution_count": null,
   "metadata": {},
   "outputs": [],
   "source": [
    "dt = 0.0005"
   ]
  },
  {
   "cell_type": "code",
   "execution_count": null,
   "metadata": {},
   "outputs": [],
   "source": [
    "time = gettime(datafile_v[0])\n",
    "\n",
    "n = 0\n",
    "time_v = np.linspace(0,dt*len(ev_wf_v[n][0]),len(ev_wf_v[n][0]))\n",
    "\n",
    "fig = plt.figure(figsize=(10,6))\n",
    "plt.plot(time_v,ev_wf_v[n][0],color='r',label='Anode')\n",
    "plt.plot(time_v,ev_wf_v[n][1],color='b',label='Cathode')\n",
    "plt.grid()\n",
    "plt.legend(loc=1)\n",
    "plt.xlabel('Time [ms]',fontsize=20)\n",
    "plt.ylabel('Amplitude [mV]',fontsize=20)\n",
    "plt.title('Time : %s'%time)\n",
    "plt.ylim([-0.025,0.025])\n",
    "#plt.xlim([0,0.05])\n",
    "plt.show()"
   ]
  },
  {
   "cell_type": "code",
   "execution_count": null,
   "metadata": {},
   "outputs": [],
   "source": [
    "avg_wf_anode   = np.zeros(3000)\n",
    "avg_wf_cathode = np.zeros(3000)\n",
    "ctr = 0.\n",
    "for n in xrange(1,len(ev_wf_v)):\n",
    "    anode_wf   = ev_wf_v[n][0]\n",
    "    cathode_wf = ev_wf_v[n][1]\n",
    "    if (len(anode_wf) != 3000):\n",
    "        break\n",
    "    # find start of this waveform\n",
    "    anodestart = 0\n",
    "    for i,V in enumerate(anode_wf):\n",
    "        if (V > 0.02):\n",
    "            anodestart = i\n",
    "            break\n",
    "    avg_wf_anode   += anode_wf[anodestart:anodestart+3000]\n",
    "    avg_wf_cathode += cathode_wf[anodestart:anodestart+3000]\n",
    "    ctr += 1\n",
    "avg_wf_anode   /= float(ctr)\n",
    "avg_wf_cathode /= float(ctr)"
   ]
  },
  {
   "cell_type": "code",
   "execution_count": null,
   "metadata": {},
   "outputs": [],
   "source": [
    "time = gettime(datafile_v[0])\n",
    "time_v = np.linspace(0,dt*len(avg_wf_anode),len(avg_wf_anode))"
   ]
  },
  {
   "cell_type": "code",
   "execution_count": null,
   "metadata": {},
   "outputs": [],
   "source": [
    "fig = plt.figure(figsize=(10,6))\n",
    "plt.plot(time_v,avg_wf_anode  ,color='r',label='Anode')\n",
    "plt.plot(time_v,avg_wf_cathode,color='b',label='Cathode')\n",
    "plt.grid()\n",
    "plt.legend(loc=1)\n",
    "plt.xlabel('Time [ms]',fontsize=20)\n",
    "plt.ylabel('Amplitude [mV]',fontsize=20)\n",
    "plt.title('Average Signal over 50 Pulses')\n",
    "#plt.ylim([-0.025,0.025])\n",
    "plt.show()"
   ]
  },
  {
   "cell_type": "code",
   "execution_count": null,
   "metadata": {},
   "outputs": [],
   "source": [
    "# fft of average\n",
    "fft_a_v_avg = np.fft.fft(avg_wf_anode)\n",
    "fft_c_v_avg = np.fft.fft(avg_wf_cathode)\n",
    "fftmag_avg = np.abs(fft_a_v_avg)**2\n",
    "# fft of a single event\n",
    "fft_a_v_evt = np.fft.fft(ev_wf_v[n][0][:3000])\n",
    "fft_c_v_evt = np.fft.fft(ev_wf_v[n][1][:3000])\n",
    "fftmag_evt = np.abs(fft_a_v_evt)**2\n",
    "\n",
    "freq_v = np.fft.fftfreq(3000,d=dt)\n",
    "\n",
    "idx = np.argsort(freq_v)\n",
    "freq_v = freq_v[idx]\n",
    "fftmag_avg = fftmag_avg[idx]\n",
    "fftmag_evt = fftmag_evt[idx]\n",
    "\n",
    "fig = plt.figure(figsize=(10,6))\n",
    "plt.plot(freq_v,fftmag_avg,lw=2,color='m',label='FFT Mag. [signal]')\n",
    "plt.plot(freq_v,fftmag_evt,lw=2,color='k',label='FFT Mag. [signal + bkgd]')\n",
    "plt.grid()\n",
    "plt.legend(loc=1)\n",
    "plt.xlabel('Freq. [kHz]',fontsize=20)\n",
    "plt.ylabel('Power',fontsize=20)\n",
    "plt.title('Signal/Bkgd FFT')\n",
    "#plt.ylim([0.1,20])\n",
    "plt.yscale('log')\n",
    "plt.xscale('log')\n",
    "#plt.xlim([0.3,0.8])\n",
    "plt.show()"
   ]
  },
  {
   "cell_type": "code",
   "execution_count": null,
   "metadata": {},
   "outputs": [],
   "source": [
    "#smooth the frequencies\n",
    "from scipy import signal as sgnl\n",
    "# https://docs.scipy.org/doc/scipy-0.16.1/reference/generated/scipy.signal.savgol_filter.html\n",
    "fftmag_avg_smooth = sgnl.savgol_filter(fftmag_avg,5,1)\n",
    "fftmag_evt_smooth = sgnl.savgol_filter(fftmag_evt,5,1)\n",
    "\n",
    "noise = fftmag_evt_smooth - fftmag_avg_smooth\n",
    "noise = np.abs(noise)\n",
    "noise = sgnl.savgol_filter(noise,5,1)\n",
    "\n",
    "\n",
    "fig = plt.figure(figsize=(10,6))\n",
    "plt.plot(freq_v,fftmag_avg_smooth,lw=2,color='m',label='FFT Mag. [signal]')\n",
    "plt.plot(freq_v,fftmag_evt_smooth,lw=2,color='k',label='FFT Mag. [signal + bkgd]')\n",
    "plt.plot(freq_v,noise            ,lw=2,color='r',label='noise')\n",
    "plt.grid()\n",
    "plt.legend(loc=1)\n",
    "plt.xlabel('Freq. [kHz]',fontsize=20)\n",
    "plt.ylabel('Power',fontsize=20)\n",
    "plt.title('Signal/Bkgd FFT - after Smoothing')\n",
    "#plt.ylim([0.1,20])\n",
    "plt.yscale('log')\n",
    "plt.xscale('log')\n",
    "#plt.xlim([0.3,0.8])\n",
    "plt.show()"
   ]
  },
  {
   "cell_type": "code",
   "execution_count": null,
   "metadata": {},
   "outputs": [],
   "source": [
    "# wiener signal filtering\n",
    "# https://docs.scipy.org/doc/scipy-0.16.1/reference/generated/scipy.signal.wiener.html"
   ]
  },
  {
   "cell_type": "code",
   "execution_count": null,
   "metadata": {
    "scrolled": false
   },
   "outputs": [],
   "source": [
    "# simple noise filtering\n",
    "# https://stackoverflow.com/questions/19122157/fft-bandpass-filter-in-python\n",
    "wf_a = np.array(ev_wf_v[0][0][:3000])\n",
    "wf_c = np.array(ev_wf_v[0][1][:3000])\n",
    "\n",
    "for n in xrange(1,len(ev_wf_v)):\n",
    "    \n",
    "    anode_wf   = ev_wf_v[n][0]\n",
    "    cathode_wf = ev_wf_v[n][1]\n",
    "    # find start of this waveform\n",
    "    anodestart = 0\n",
    "    for i,V in enumerate(anode_wf):\n",
    "        if (V > 0.02):\n",
    "            anodestart = i\n",
    "            break\n",
    "    wf_a = anode_wf[anodestart:anodestart+3000]\n",
    "    wf_c = cathode_wf[anodestart:anodestart+3000]\n",
    "\n",
    "    freq_v = np.fft.fftfreq(len(wf_a),d=dt)\n",
    "\n",
    "    time_v = np.linspace(0,dt*len(wf_a),len(wf_a))\n",
    "\n",
    "    wf_a_freq_signl = np.fft.rfft(wf_a)\n",
    "    wf_c_freq_signl = np.fft.rfft(wf_c)\n",
    "\n",
    "    # cut freq. above 20 kHz\n",
    "    wf_a_freq_signl[(freq_v > 20)] = 0\n",
    "    wf_c_freq_signl[(freq_v > 20)] = 0\n",
    "\n",
    "    wf_a_filtered = np.fft.irfft(wf_a_freq_signl)\n",
    "    wf_c_filtered = np.fft.irfft(wf_c_freq_signl)\n",
    "    \n",
    "    wf_a_filtered[-100:] = 0\n",
    "    wf_c_filtered[-100:] = 0    \n",
    "    wf_a_filtered[:100] = 0\n",
    "    wf_c_filtered[:100] = 0\n",
    "\n",
    "    fig = plt.figure(figsize=(10,6))\n",
    "\n",
    "    plt.plot(time_v,wf_a         ,color='m',label='Anode',lw=1)\n",
    "    plt.plot(time_v,wf_c         ,color='c',label='Cathode',lw=1)\n",
    "\n",
    "    plt.plot(time_v,wf_a_filtered,color='r',label='Anode [filtered]',lw=3)\n",
    "    plt.plot(time_v,wf_c_filtered,color='b',label='Cathode [filtered]',lw=3)\n",
    "\n",
    "    plt.grid()\n",
    "    plt.legend(loc=1)\n",
    "    plt.xlabel('Time [ms]',fontsize=20)\n",
    "    plt.ylabel('Amplitude [mV]',fontsize=20)\n",
    "    plt.title('Time : %s'%time)\n",
    "    plt.ylim([-0.025,0.025])\n",
    "    #plt.xlim([0,0.05])\n",
    "    plt.show()"
   ]
  },
  {
   "cell_type": "code",
   "execution_count": null,
   "metadata": {},
   "outputs": [],
   "source": []
  }
 ],
 "metadata": {
  "kernelspec": {
   "display_name": "Python 3 (ipykernel)",
   "language": "python",
   "name": "python3"
  },
  "language_info": {
   "codemirror_mode": {
    "name": "ipython",
    "version": 3
   },
   "file_extension": ".py",
   "mimetype": "text/x-python",
   "name": "python",
   "nbconvert_exporter": "python",
   "pygments_lexer": "ipython3",
   "version": "3.7.9"
  }
 },
 "nbformat": 4,
 "nbformat_minor": 1
}
