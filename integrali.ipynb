{
 "cells": [
  {
   "cell_type": "code",
   "execution_count": 1,
   "metadata": {},
   "outputs": [],
   "source": [
    "%matplotlib inline\n",
    "#%pylab\n",
    "import matplotlib\n",
    "import matplotlib.pyplot as plt\n",
    "import matplotlib.colors as mpc\n",
    "import matplotlib.dates as dts\n",
    "import numpy as np\n",
    "import math\n",
    "#import pandas as pd\n",
    "import itertools\n",
    "import os\n",
    "#import ROOT\n",
    "import datetime\n",
    "#from root_numpy import root2array, root2rec, tree2rec, array2root\n",
    "from scipy.optimize import curve_fit\n",
    "from scipy.misc import factorial\n"
   ]
  },
  {
   "cell_type": "code",
   "execution_count": 2,
   "metadata": {},
   "outputs": [],
   "source": [
    "plt.rcParams.update({'font.size': 16})"
   ]
  },
  {
   "cell_type": "code",
   "execution_count": 3,
   "metadata": {},
   "outputs": [],
   "source": [
    "from decode import GetWaveforms\n",
    "from decode_new import GetWaveformsNoiseRemoval\n",
    "from analyze import det_baseline, integral, QaQc, QaQcSTATS, mean_plot, gettime"
   ]
  },
  {
   "cell_type": "code",
   "execution_count": 4,
   "metadata": {
    "scrolled": true
   },
   "outputs": [],
   "source": [
    "PATH = '/home/david/data/PrM/Gas07psi_092718/'\n"
   ]
  },
  {
   "cell_type": "code",
   "execution_count": 5,
   "metadata": {},
   "outputs": [],
   "source": [
    "dt = 0.0005\n",
    "RC=0.240"
   ]
  },
  {
   "cell_type": "code",
   "execution_count": 6,
   "metadata": {},
   "outputs": [],
   "source": [
    "PATH_V = ['/home/david/data/PrM/Gas07psi_092718/','/home/david/data/PrM/Gas05psi_092918/',\\\n",
    "         '/home/david/data/PrM/15psi/data/','/home/david/data/PrM/3psi/data3psi/data/',\\\n",
    "          '/home/david/data/PrM/7psi/data7psi/data/']\n",
    "\n",
    "Qa_avg_v_v = []\n",
    "Qa_rms_v_v = []\n",
    "Qc_avg_v_v = []\n",
    "Qc_rms_v_v = []\n",
    "int_cat_v_v=[]\n",
    "int_an_v_v=[]"
   ]
  },
  {
   "cell_type": "code",
   "execution_count": 7,
   "metadata": {
    "scrolled": false
   },
   "outputs": [
    {
     "name": "stdout",
     "output_type": "stream",
     "text": [
      "There are 14 files\n",
      "14\n",
      "There are 10 files\n",
      "10\n",
      "There are 36 files\n",
      "35\n",
      "There are 36 files\n",
      "36\n",
      "There are 37 files\n",
      "36\n"
     ]
    }
   ],
   "source": [
    "for PATH in PATH_V:\n",
    "    \n",
    "    datafile_v = os.listdir(PATH)\n",
    "    datafile_v.sort()\n",
    "    print 'There are %i files'%len(datafile_v)\n",
    "    \n",
    "    Qa_avgwf_v = []\n",
    "    Qc_avgwf_v = []\n",
    "    \n",
    "    int_cat_v=[]\n",
    "    int_an_v=[]\n",
    "    \n",
    "    Qa_avg_v = []\n",
    "    Qa_rms_v = []\n",
    "    Qc_avg_v = []\n",
    "    Qc_rms_v = []\n",
    "\n",
    "    for datafile in datafile_v:\n",
    "        if (datafile.find('.dat') > 0):\n",
    "\n",
    "            #print(datafile)\n",
    "            if (datafile.find('.dat') < 0): continue\n",
    "            fin = PATH+datafile\n",
    "        \n",
    "            #try:\n",
    "            if (1==1):\n",
    "                #print 'FIN : ',fin\n",
    "            \n",
    "                ev_wf_v = GetWaveformsNoiseRemoval(fin)#,3000,30.)\n",
    "            \n",
    "                res = QaQcSTATS(ev_wf_v)\n",
    "            \n",
    "                Qa_avg = res[0][0]\n",
    "                Qa_rms = res[0][1] / np.sqrt(50.)\n",
    "                #print Qa_rms\n",
    "                Qc_avg = res[1][0]\n",
    "                Qc_rms = res[1][1] / np.sqrt(50.)\n",
    "                \n",
    "                #print 'Qa : %.03f'%Qa_avg\n",
    "                #print 'Qc : %.03f'%Qc_avg\n",
    "                #print 'Qa err: %.03f'%(Qa_rms/Qa_avg)\n",
    "                #print 'Qc err: %.03f'%(Qc_rms/Qc_avg)\n",
    "                #if (Qa_rms > 5.):\n",
    "                #    print 'REMOVING FILE ',datafile\n",
    "                #    continue\n",
    "            \n",
    "                #date_v.append(time)\n",
    "                Qa_avg_v.append(Qa_avg)\n",
    "                Qc_avg_v.append(Qc_avg)\n",
    "                Qa_rms_v.append(Qa_rms)\n",
    "                Qc_rms_v.append(Qc_rms)\n",
    "            \n",
    "                #print 'here1'\n",
    "                time_v = np.linspace(0,dt*len(ev_wf_v[0][0]),len(ev_wf_v[0][0]))\n",
    "         \n",
    "                a=mean_plot(ev_wf_v,len(ev_wf_v[0][0]))\n",
    "           \n",
    "                b_a,b_c = det_baseline(a,time_v)\n",
    "            \n",
    "                integral_anode, integral_cathode=integral(a, time_v,b_a,b_c)\n",
    "                int_an_v.append(integral_anode)\n",
    "                int_cat_v.append(integral_cathode)\n",
    "                \n",
    "                \n",
    "    print len(int_an_v)            \n",
    "    int_cat_v_v.append(int_cat_v)\n",
    "    int_an_v_v.append(int_an_v)\n",
    "    \n",
    "    Qa_avg_v_v.append(Qa_avg_v)\n",
    "    Qa_rms_v_v.append(Qa_rms_v)\n",
    "    Qc_avg_v_v.append(Qc_avg_v)\n",
    "    Qc_rms_v_v.append(Qc_rms_v)\n",
    "    \n",
    "    #break"
   ]
  },
  {
   "cell_type": "code",
   "execution_count": 8,
   "metadata": {},
   "outputs": [],
   "source": [
    "anode_voltages_v = []\n",
    "anode_voltages_v.append( [1000,1100,1200,1300,1400,1500,1600,1600,1600,1700,1800,1900,2000,2000] ) # 7 PSI\n",
    "anode_voltages_v.append( [1000,1100,1200,1300,1400,1500,1700,1800,1900,2000] ) # 5 PSI\n",
    "anode_voltages_v.append( [11, 16, 21, 26, 31, 36, 41, 46, 51, 56, 61, 69, 80, 90, 100, 120, 141, 161, 200, 250, 300, 350, 400, 450, 500, 550, 600, 650, 700, 750, 800, 850, 900, 950, 1000] ) # 15 PSI\n",
    "anode_voltages_v.append( [6,11, 16, 21, 26, 31, 36, 41, 46, 51, 56, 61, 69, 80, 90, 100, 120, 141, 161, 200, 250, 300, 350, 400, 450, 500, 550, 600, 650, 700, 750, 800, 850, 900, 950, 1000] ) # 3 PSI\n",
    "anode_voltages_v.append( [6,11, 16, 21, 26, 31, 36, 41, 46, 51, 56, 61, 69, 80, 90, 100, 120, 141, 161, 200, 250, 300, 350, 400, 450, 500, 550, 600, 650, 700, 750, 800, 850, 900, 950, 1000] ) # 7 PSI\n",
    "\n",
    "label_v = ['7 PSI','5 PSI','15 PSI','3 PSI','7 PSI']\n"
   ]
  },
  {
   "cell_type": "code",
   "execution_count": 14,
   "metadata": {},
   "outputs": [
    {
     "name": "stdout",
     "output_type": "stream",
     "text": [
      "0\n",
      "14\n",
      "14\n",
      "1\n",
      "10\n",
      "10\n",
      "2\n",
      "35\n",
      "35\n",
      "3\n",
      "36\n",
      "36\n",
      "4\n",
      "36\n",
      "36\n"
     ]
    },
    {
     "data": {
      "image/png": "[encoded data removed]",
      "text/plain": [
       "<matplotlib.figure.Figure at 0x7f8d8abf8150>"
      ]
     },
     "metadata": {},
     "output_type": "display_data"
    }
   ],
   "source": [
    "fig = plt.figure(figsize=(10,6))\n",
    "\n",
    "\n",
    "for i,anode_voltages in enumerate(anode_voltages_v):\n",
    "    \n",
    "    print i\n",
    "    print len(anode_voltages)\n",
    "    \n",
    "    #if (i != 0):\n",
    "    #    continue\n",
    "    \n",
    "    int_an_v  = int_an_v_v[i]\n",
    "    int_cat_v = int_cat_v_v[i]\n",
    "    Qa_rms_v  = Qa_rms_v_v[i]\n",
    "    Qa_avg_v  = Qa_avg_v_v[i]\n",
    "    Qc_rms_v  = Qc_rms_v_v[i]\n",
    "    Qc_avg_v  = Qc_avg_v_v[i]\n",
    "    \n",
    "    print len(int_an_v)\n",
    "\n",
    "    Qa_avg_v=np.array(Qa_avg_v)\n",
    "    Qc_avg_v=np.array(Qc_avg_v)\n",
    "    Qa_rms_v=np.array(Qa_rms_v)\n",
    "    Qc_rms_v=np.array(Qc_rms_v)\n",
    "    \n",
    "    #ratio=(np.array(np.abs(int_an_v))-np.array(np.abs(int_cat_v)))/np.array(np.abs(int_cat_v))\n",
    "    ratio = (Qa_avg_v / Qc_avg_v) #/ np.abs(Qc_avg_v)\n",
    "    #err_ratio=np.sqrt((np.array(Qa_rms_v)/(np.array(int_cat_v)))**2+(np.array(int_an_v)*np.array(Qc_rms_v)/(np.array(int_cat_v))**2)**2)\n",
    "    err_ratio = np.sqrt( (Qa_rms_v/Qa_avg_v)**2 + (Qc_rms_v/Qc_avg_v)**2 )\n",
    "    \n",
    "    #print 'Anode voltages : ',anode_voltages\n",
    "    #print 'error : ',Qc_rms_v\n",
    "\n",
    "    if (i == 0):\n",
    "        plt.errorbar(anode_voltages,ratio,yerr=err_ratio,fmt='o',color='b',markersize=6,label=label_v[i])\n",
    "    #if (i == 4):\n",
    "    #    plt.errorbar(anode_voltages,ratio,yerr=err_ratio,fmt='o',color='b',markersize=6)\n",
    "    #if ((i!=0) and (i!=1)):\n",
    "    #    plt.errorbar(anode_voltages,ratio,yerr=err_ratio,fmt='o',markersize=8,label=label_v[i])\n",
    "\n",
    "plt.grid()\n",
    "plt.legend(numpoints=1,fontsize=18, loc=2)\n",
    "plt.xlabel('Anode voltage [V]',fontsize=16)\n",
    "plt.ylabel('Charge Ratio [Anode/Cathode]',fontsize=16)\n",
    "#plt.ylabel('Ratio delta amplitude / cathode',fontsize=16)\n",
    "#plt.ylabel('Drift time [ms] [50-run avg.]',fontsize=16)\n",
    "#plt.ylabel('Amplitude anode / amplitude cathode',fontsize=20)\n",
    "#plt.title('Measures in GAr @ Run3, 3 psi [Vc = -200V, Vcg = -130V]',fontsize=16)\n",
    "#plt.title('Measures in LAr @ Run1, [Vc = -200V, Vcg = -130V]',fontsize=16)\n",
    "#plt.title('Drift time in LAr, [Vc = -200V, Vcg = -130V]',fontsize=16)\n",
    "\n",
    "#fig.savefig('measures_LAr_VC100_VCG65.png')\n",
    "#plt.xlim([100,1050])\n",
    "#plt.ylim([0.95,1.6])\n",
    "#plt.ylim([-0.4,0.4])#0.00,0.16])\n",
    "#plt.xscale('log')\n",
    "#plt.yscale('log')\n",
    "plt.show()"
   ]
  },
  {
   "cell_type": "code",
   "execution_count": 10,
   "metadata": {},
   "outputs": [
    {
     "name": "stdout",
     "output_type": "stream",
     "text": [
      "[5.24123145e-05 6.43868526e-05 6.66160075e-05 7.77757679e-05\n",
      " 7.10681633e-05 8.57167651e-05 7.30491791e-05 7.89392337e-05\n",
      " 7.47205729e-05 7.38898663e-05 6.58126519e-05 6.72808664e-05\n",
      " 6.85086667e-05 7.68176553e-05 6.95937146e-05 8.77012331e-05\n",
      " 7.44303638e-05 7.40815259e-05 6.67135386e-05 8.30809313e-05\n",
      " 8.06310787e-05 8.60259650e-05 7.90136738e-05 8.93871836e-05\n",
      " 9.51655900e-05 9.43105840e-05 9.53916075e-05 9.53467462e-05\n",
      " 1.01691870e-04 1.06279276e-04 1.05298284e-04 1.08530390e-04\n",
      " 1.15596692e-04 1.22867970e-04 1.18931372e-04 1.42570660e-04]\n"
     ]
    }
   ],
   "source": [
    "print(Qa_rms_v)"
   ]
  },
  {
   "cell_type": "code",
   "execution_count": 11,
   "metadata": {},
   "outputs": [],
   "source": [
    "\n",
    "ratio15 = [-1., -0.24668679, -0.11322492, -0.03218646, -0.00058467,  0.00227667,  0.00495479,\n",
    "  0.00253999,  0.00453614,  0.0042919,   0.00324464 , 0.00371206 , 0.0047085,\n",
    "  0.00513499,  0.00380238,  0.00591072,  0.00384652 , 0.00380147 , 0.00573098,\n",
    "  0.00429826,  0.00738685,  0.0080153,   0.00926858 , 0.01277445 , 0.01645522,\n",
    "  0.01997176,  0.0215852,   0.02366643,  0.02885677 , 0.03140749,  0.03623715,\n",
    "  0.04104347,  0.04918997,  0.05822755,  0.06981644,  0.08945703]\n",
    "\n",
    "err_ratio15=[0,0.0014047138520653494, 0.0017420234042780096, 0.001827264127014538, 0.0020222990486805682, 0.001922791107909393, 0.001869023481516259, 0.001995127081191335, 0.001903893273863286, 0.0018970986596561776, 0.001964011643485249, 0.0018990856940196805, 0.0019141599841018435, 0.001961523525386318, 0.001969136307847787, 0.0019687065171791755, 0.0018515507413195016, 0.0020179896773399653, 0.001988526603395771, 0.0018252502485274723, 0.0019163438390570353, 0.0018962516322811667, 0.0018872779222859162, 0.0020410918622035903, 0.0021009931197124958, 0.002120941667365355, 0.0020564847992617175, 0.0020947335873876954, 0.0020406113752734173, 0.0021321073266618203, 0.0022222845254233716, 0.00212720956044876, 0.002167901256932354, 0.002218347532268903, 0.002360185826384608, 0.002563392454039681]"
   ]
  },
  {
   "cell_type": "code",
   "execution_count": 12,
   "metadata": {},
   "outputs": [
    {
     "ename": "NameError",
     "evalue": "name 'ratio3' is not defined",
     "output_type": "error",
     "traceback": [
      "\u001b[0;31m---------------------------------------------------------------------------\u001b[0m",
      "\u001b[0;31mNameError\u001b[0m                                 Traceback (most recent call last)",
      "\u001b[0;32m<ipython-input-12-01a76e3d39a0>\u001b[0m in \u001b[0;36m<module>\u001b[0;34m()\u001b[0m\n\u001b[1;32m      1\u001b[0m \u001b[0mfig\u001b[0m \u001b[0;34m=\u001b[0m \u001b[0mplt\u001b[0m\u001b[0;34m.\u001b[0m\u001b[0mfigure\u001b[0m\u001b[0;34m(\u001b[0m\u001b[0mfigsize\u001b[0m\u001b[0;34m=\u001b[0m\u001b[0;34m(\u001b[0m\u001b[0;36m10\u001b[0m\u001b[0;34m,\u001b[0m\u001b[0;36m4\u001b[0m\u001b[0;34m)\u001b[0m\u001b[0;34m)\u001b[0m\u001b[0;34m\u001b[0m\u001b[0;34m\u001b[0m\u001b[0m\n\u001b[1;32m      2\u001b[0m \u001b[0manode_voltages\u001b[0m\u001b[0;34m=\u001b[0m\u001b[0;34m[\u001b[0m\u001b[0;36m6\u001b[0m\u001b[0;34m,\u001b[0m \u001b[0;36m11\u001b[0m\u001b[0;34m,\u001b[0m \u001b[0;36m16\u001b[0m\u001b[0;34m,\u001b[0m \u001b[0;36m21\u001b[0m\u001b[0;34m,\u001b[0m \u001b[0;36m26\u001b[0m\u001b[0;34m,\u001b[0m \u001b[0;36m31\u001b[0m\u001b[0;34m,\u001b[0m \u001b[0;36m36\u001b[0m\u001b[0;34m,\u001b[0m \u001b[0;36m41\u001b[0m\u001b[0;34m,\u001b[0m \u001b[0;36m46\u001b[0m\u001b[0;34m,\u001b[0m \u001b[0;36m51\u001b[0m\u001b[0;34m,\u001b[0m \u001b[0;36m56\u001b[0m\u001b[0;34m,\u001b[0m \u001b[0;36m61\u001b[0m\u001b[0;34m,\u001b[0m \u001b[0;36m69\u001b[0m\u001b[0;34m,\u001b[0m \u001b[0;36m80\u001b[0m\u001b[0;34m,\u001b[0m \u001b[0;36m90\u001b[0m\u001b[0;34m,\u001b[0m \u001b[0;36m100\u001b[0m\u001b[0;34m,\u001b[0m \u001b[0;36m120\u001b[0m\u001b[0;34m,\u001b[0m \u001b[0;36m141\u001b[0m\u001b[0;34m,\u001b[0m \u001b[0;36m161\u001b[0m\u001b[0;34m,\u001b[0m \u001b[0;36m200\u001b[0m\u001b[0;34m,\u001b[0m \u001b[0;36m250\u001b[0m\u001b[0;34m,\u001b[0m \u001b[0;36m300\u001b[0m\u001b[0;34m,\u001b[0m \u001b[0;36m350\u001b[0m\u001b[0;34m,\u001b[0m \u001b[0;36m400\u001b[0m\u001b[0;34m,\u001b[0m \u001b[0;36m450\u001b[0m\u001b[0;34m,\u001b[0m \u001b[0;36m500\u001b[0m\u001b[0;34m,\u001b[0m \u001b[0;36m550\u001b[0m\u001b[0;34m,\u001b[0m \u001b[0;36m600\u001b[0m\u001b[0;34m,\u001b[0m \u001b[0;36m650\u001b[0m\u001b[0;34m,\u001b[0m \u001b[0;36m700\u001b[0m\u001b[0;34m,\u001b[0m \u001b[0;36m750\u001b[0m\u001b[0;34m,\u001b[0m \u001b[0;36m800\u001b[0m\u001b[0;34m,\u001b[0m \u001b[0;36m850\u001b[0m\u001b[0;34m,\u001b[0m \u001b[0;36m900\u001b[0m\u001b[0;34m,\u001b[0m \u001b[0;36m950\u001b[0m\u001b[0;34m,\u001b[0m \u001b[0;36m1000\u001b[0m\u001b[0;34m]\u001b[0m\u001b[0;34m\u001b[0m\u001b[0;34m\u001b[0m\u001b[0m\n\u001b[0;32m----> 3\u001b[0;31m \u001b[0mplt\u001b[0m\u001b[0;34m.\u001b[0m\u001b[0merrorbar\u001b[0m\u001b[0;34m(\u001b[0m\u001b[0manode_voltages\u001b[0m\u001b[0;34m,\u001b[0m\u001b[0mratio3\u001b[0m\u001b[0;34m,\u001b[0m\u001b[0myerr\u001b[0m\u001b[0;34m=\u001b[0m\u001b[0merr_ratio3\u001b[0m\u001b[0;34m,\u001b[0m\u001b[0mfmt\u001b[0m\u001b[0;34m=\u001b[0m\u001b[0;34m'o'\u001b[0m\u001b[0;34m,\u001b[0m\u001b[0mcolor\u001b[0m\u001b[0;34m=\u001b[0m\u001b[0;34m'b'\u001b[0m\u001b[0;34m,\u001b[0m\u001b[0mmarkersize\u001b[0m\u001b[0;34m=\u001b[0m\u001b[0;36m5\u001b[0m\u001b[0;34m,\u001b[0m\u001b[0mlabel\u001b[0m\u001b[0;34m=\u001b[0m\u001b[0;34m'3psi'\u001b[0m\u001b[0;34m)\u001b[0m\u001b[0;34m\u001b[0m\u001b[0;34m\u001b[0m\u001b[0m\n\u001b[0m\u001b[1;32m      4\u001b[0m \u001b[0mplt\u001b[0m\u001b[0;34m.\u001b[0m\u001b[0merrorbar\u001b[0m\u001b[0;34m(\u001b[0m\u001b[0manode_voltages\u001b[0m\u001b[0;34m,\u001b[0m\u001b[0mratio7\u001b[0m\u001b[0;34m,\u001b[0m\u001b[0myerr\u001b[0m\u001b[0;34m=\u001b[0m\u001b[0merr_ratio7\u001b[0m\u001b[0;34m,\u001b[0m\u001b[0mfmt\u001b[0m\u001b[0;34m=\u001b[0m\u001b[0;34m'o'\u001b[0m\u001b[0;34m,\u001b[0m\u001b[0mcolor\u001b[0m\u001b[0;34m=\u001b[0m\u001b[0;34m'r'\u001b[0m\u001b[0;34m,\u001b[0m\u001b[0mmarkersize\u001b[0m\u001b[0;34m=\u001b[0m\u001b[0;36m5\u001b[0m\u001b[0;34m,\u001b[0m\u001b[0mlabel\u001b[0m\u001b[0;34m=\u001b[0m\u001b[0;34m'7psi'\u001b[0m\u001b[0;34m)\u001b[0m\u001b[0;34m\u001b[0m\u001b[0;34m\u001b[0m\u001b[0m\n\u001b[1;32m      5\u001b[0m \u001b[0mplt\u001b[0m\u001b[0;34m.\u001b[0m\u001b[0merrorbar\u001b[0m\u001b[0;34m(\u001b[0m\u001b[0manode_voltages\u001b[0m\u001b[0;34m,\u001b[0m\u001b[0mratio15\u001b[0m\u001b[0;34m,\u001b[0m\u001b[0myerr\u001b[0m\u001b[0;34m=\u001b[0m\u001b[0merr_ratio15\u001b[0m\u001b[0;34m,\u001b[0m\u001b[0mfmt\u001b[0m\u001b[0;34m=\u001b[0m\u001b[0;34m'o'\u001b[0m\u001b[0;34m,\u001b[0m\u001b[0mcolor\u001b[0m\u001b[0;34m=\u001b[0m\u001b[0;34m'm'\u001b[0m\u001b[0;34m,\u001b[0m\u001b[0mmarkersize\u001b[0m\u001b[0;34m=\u001b[0m\u001b[0;36m5\u001b[0m\u001b[0;34m,\u001b[0m\u001b[0mlabel\u001b[0m\u001b[0;34m=\u001b[0m\u001b[0;34m'15psi'\u001b[0m\u001b[0;34m)\u001b[0m\u001b[0;34m\u001b[0m\u001b[0;34m\u001b[0m\u001b[0m\n",
      "\u001b[0;31mNameError\u001b[0m: name 'ratio3' is not defined"
     ]
    },
    {
     "data": {
      "text/plain": [
       "<matplotlib.figure.Figure at 0x7f8d8accc410>"
      ]
     },
     "metadata": {},
     "output_type": "display_data"
    }
   ],
   "source": [
    "fig = plt.figure(figsize=(10,4))\n",
    "anode_voltages=[6, 11, 16, 21, 26, 31, 36, 41, 46, 51, 56, 61, 69, 80, 90, 100, 120, 141, 161, 200, 250, 300, 350, 400, 450, 500, 550, 600, 650, 700, 750, 800, 850, 900, 950, 1000]\n",
    "plt.errorbar(anode_voltages,ratio3,yerr=err_ratio3,fmt='o',color='b',markersize=5,label='3psi')\n",
    "plt.errorbar(anode_voltages,ratio7,yerr=err_ratio7,fmt='o',color='r',markersize=5,label='7psi')\n",
    "plt.errorbar(anode_voltages,ratio15,yerr=err_ratio15,fmt='o',color='m',markersize=5,label='15psi')\n",
    "plt.grid()\n",
    "plt.legend(numpoints=1,fontsize=18, loc=4)\n",
    "plt.xlabel('Anode voltage [V]',fontsize=16)\n",
    "#plt.ylabel('Amplitude [mV] [50-run avg.]',fontsize=16)\n",
    "plt.ylabel('Relative difference',fontsize=16)\n",
    "#plt.ylabel('Drift time [ms] [50-run avg.]',fontsize=16)\n",
    "#plt.ylabel('Amplitude anode / amplitude cathode',fontsize=20)\n",
    "plt.title('Measures in GAr @ Run3 [Vc = -200V, Vcg = -130V]',fontsize=16)\n",
    "#plt.title('Measures in LAr @ Run1, [Vc = -200V, Vcg = -130V]',fontsize=16)\n",
    "#plt.title('Drift time in LAr, [Vc = -200V, Vcg = -130V]',fontsize=16)\n",
    "\n",
    "#fig.savefig('measures_LAr_VC100_VCG65.png')\n",
    "plt.xlim([5,1400])\n",
    "plt.ylim([-0.4,0.4])#0.00,0.16])\n",
    "plt.xscale('log')\n",
    "plt.show()"
   ]
  },
  {
   "cell_type": "code",
   "execution_count": null,
   "metadata": {},
   "outputs": [],
   "source": []
  }
 ],
 "metadata": {
  "kernelspec": {
   "display_name": "Python 2",
   "language": "python",
   "name": "python2"
  },
  "language_info": {
   "codemirror_mode": {
    "name": "ipython",
    "version": 2
   },
   "file_extension": ".py",
   "mimetype": "text/x-python",
   "name": "python",
   "nbconvert_exporter": "python",
   "pygments_lexer": "ipython2",
   "version": "2.7.15+"
  }
 },
 "nbformat": 4,
 "nbformat_minor": 1
}
